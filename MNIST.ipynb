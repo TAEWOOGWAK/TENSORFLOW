{
  "nbformat": 4,
  "nbformat_minor": 0,
  "metadata": {
    "colab": {
      "name": "MNIST",
      "provenance": [],
      "collapsed_sections": [],
      "authorship_tag": "ABX9TyMWW1bxNVBeDDmFo8EWp3bp",
      "include_colab_link": true
    },
    "kernelspec": {
      "name": "python3",
      "display_name": "Python 3"
    },
    "language_info": {
      "name": "python"
    },
    "accelerator": "GPU",
    "gpuClass": "standard"
  },
  "cells": [
    {
      "cell_type": "markdown",
      "metadata": {
        "id": "view-in-github",
        "colab_type": "text"
      },
      "source": [
        "<a href=\"https://colab.research.google.com/github/TAEWOOGWAK/TENSORFLOW/blob/master/MNIST.ipynb\" target=\"_parent\"><img src=\"https://colab.research.google.com/assets/colab-badge.svg\" alt=\"Open In Colab\"/></a>"
      ]
    },
    {
      "cell_type": "markdown",
      "source": [
        "# MNIST"
      ],
      "metadata": {
        "id": "6BLoMWF6mlNj"
      }
    },
    {
      "cell_type": "code",
      "execution_count": 1,
      "metadata": {
        "id": "sLK-9l_EdAf0"
      },
      "outputs": [],
      "source": [
        "import tensorflow as tf\n",
        "import numpy as np\n",
        "from tensorflow.keras.layers import Conv2D, MaxPooling2D, Flatten, Dropout, Dense, BatchNormalization\n",
        "from tensorflow.keras.models import Sequential\n",
        "from tensorflow.keras.callbacks import ModelCheckpoint"
      ]
    },
    {
      "cell_type": "markdown",
      "source": [
        "#Data Load"
      ],
      "metadata": {
        "id": "iqdC9FD6T36t"
      }
    },
    {
      "cell_type": "code",
      "source": [
        "(x_train, y_train), (x_test, y_test) = tf. keras.datasets.mnist.load_data()\n",
        "\n",
        "x_train, x_test = x_train / 255.0, x_test / 255.0\n",
        "\n",
        "x_valid = x_train[50000:]\n",
        "x_train = x_train[:50000]\n",
        "y_valid = y_train[50000:]\n",
        "y_train = y_train[:50000]"
      ],
      "metadata": {
        "id": "MiOBQLs9d7EF"
      },
      "execution_count": 10,
      "outputs": []
    },
    {
      "cell_type": "code",
      "source": [
        "len(x_train)"
      ],
      "metadata": {
        "colab": {
          "base_uri": "https://localhost:8080/"
        },
        "id": "XZnIVssYMS6p",
        "outputId": "e0fb7dbc-185d-47e3-ea68-4cc1f92806ca"
      },
      "execution_count": 9,
      "outputs": [
        {
          "output_type": "execute_result",
          "data": {
            "text/plain": [
              "10000"
            ]
          },
          "metadata": {},
          "execution_count": 9
        }
      ]
    },
    {
      "cell_type": "markdown",
      "source": [
        "#Training"
      ],
      "metadata": {
        "id": "_PE5Y_cMT6La"
      }
    },
    {
      "cell_type": "code",
      "source": [
        "model = Sequential ([\n",
        "                     Flatten(input_shape = (28, 28)),\n",
        "                     Dense(1024, activation = 'relu'),\n",
        "                     Dense(512, activation = 'relu'),\n",
        "                     Dropout(0.25),\n",
        "                     Dense(256, activation = 'relu'),\n",
        "                     Dense(128, activation = 'relu'),\n",
        "                     Dense(512, activation='relu'),\n",
        "                     Dropout(0.5),\n",
        "                     Dense(64, activation = 'relu'),\n",
        "                     Dense(32, activation = 'relu'),\n",
        "                     Dense(10, activation = 'softmax'),\n",
        "\n",
        "])\n",
        "\n",
        "\n",
        "model.compile(optimizer = 'adam', loss = 'sparse_categorical_crossentropy',metrics=['acc'])\n",
        "\n",
        "checkpoint_path=\"my_check1.ckpt\"\n",
        "checkpoint=ModelCheckpoint(filepath=checkpoint_path,\n",
        "                            monitor='val_acc',\n",
        "                            verbose=1,\n",
        "                            save_best_only=True,\n",
        "                            save_weights_only=True\n",
        "                            )\n",
        "\n",
        "\n",
        "history=model.fit(x_train,y_train,\n",
        "                  validation_data=(x_valid,y_valid),\n",
        "                  epochs=15,\n",
        "                  callbacks=[checkpoint],\n",
        "                  batch_size=128\n",
        "                  )\n",
        "\n",
        "\n",
        "model.load_weights(checkpoint_path)"
      ],
      "metadata": {
        "colab": {
          "base_uri": "https://localhost:8080/"
        },
        "id": "Se1TibHAU5A4",
        "outputId": "b206c14c-e3e9-4747-a770-ba18e2fbf86a"
      },
      "execution_count": 12,
      "outputs": [
        {
          "output_type": "stream",
          "name": "stdout",
          "text": [
            "Epoch 1/5\n",
            "384/391 [============================>.] - ETA: 0s - loss: 0.3596 - acc: 0.8873\n",
            "Epoch 1: val_acc improved from -inf to 0.96650, saving model to my_check1.ckpt\n",
            "391/391 [==============================] - 2s 4ms/step - loss: 0.3562 - acc: 0.8885 - val_loss: 0.1219 - val_acc: 0.9665\n",
            "Epoch 2/5\n",
            "389/391 [============================>.] - ETA: 0s - loss: 0.1272 - acc: 0.9639\n",
            "Epoch 2: val_acc improved from 0.96650 to 0.96780, saving model to my_check1.ckpt\n",
            "391/391 [==============================] - 1s 4ms/step - loss: 0.1273 - acc: 0.9639 - val_loss: 0.1224 - val_acc: 0.9678\n",
            "Epoch 3/5\n",
            "382/391 [============================>.] - ETA: 0s - loss: 0.0863 - acc: 0.9761\n",
            "Epoch 3: val_acc improved from 0.96780 to 0.97290, saving model to my_check1.ckpt\n",
            "391/391 [==============================] - 2s 4ms/step - loss: 0.0865 - acc: 0.9760 - val_loss: 0.1052 - val_acc: 0.9729\n",
            "Epoch 4/5\n",
            "390/391 [============================>.] - ETA: 0s - loss: 0.0678 - acc: 0.9812\n",
            "Epoch 4: val_acc improved from 0.97290 to 0.97640, saving model to my_check1.ckpt\n",
            "391/391 [==============================] - 2s 4ms/step - loss: 0.0678 - acc: 0.9812 - val_loss: 0.0880 - val_acc: 0.9764\n",
            "Epoch 5/5\n",
            "381/391 [============================>.] - ETA: 0s - loss: 0.0584 - acc: 0.9837\n",
            "Epoch 5: val_acc did not improve from 0.97640\n",
            "391/391 [==============================] - 1s 4ms/step - loss: 0.0585 - acc: 0.9837 - val_loss: 0.0894 - val_acc: 0.9763\n"
          ]
        },
        {
          "output_type": "execute_result",
          "data": {
            "text/plain": [
              "<tensorflow.python.training.tracking.util.CheckpointLoadStatus at 0x7ff212072690>"
            ]
          },
          "metadata": {},
          "execution_count": 12
        }
      ]
    },
    {
      "cell_type": "markdown",
      "source": [
        "#Evaluatation"
      ],
      "metadata": {
        "id": "PSNJVrqRTsYu"
      }
    },
    {
      "cell_type": "code",
      "source": [
        "loss, acc = model.evaluate(x_test, y_test, verbose=2)\n",
        "print(\"test loss: %f, test accuracy: %f\" %(loss, acc*100))"
      ],
      "metadata": {
        "colab": {
          "base_uri": "https://localhost:8080/"
        },
        "id": "gpNuMVXKU5VZ",
        "outputId": "6ee472f3-d0bf-4e56-b693-ffd1c5a81f13"
      },
      "execution_count": 13,
      "outputs": [
        {
          "output_type": "stream",
          "name": "stdout",
          "text": [
            "313/313 - 1s - loss: 0.0815 - acc: 0.9780 - 560ms/epoch - 2ms/step\n",
            "test loss: 0.081531, test accuracy: 97.799999\n"
          ]
        }
      ]
    }
  ]
}